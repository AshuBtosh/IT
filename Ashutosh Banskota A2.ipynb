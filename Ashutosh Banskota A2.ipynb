{
 "cells": [
  {
   "cell_type": "code",
   "execution_count": null,
   "metadata": {},
   "outputs": [],
   "source": [
    "# QUESTION 1"
   ]
  },
  {
   "cell_type": "code",
   "execution_count": 1,
   "metadata": {},
   "outputs": [
    {
     "name": "stdout",
     "output_type": "stream",
     "text": [
      "(5, 25)\n"
     ]
    }
   ],
   "source": [
    "def square(n):\n",
    "    return (n, n**2)\n",
    "\n",
    "print(square(5))\n",
    "\n"
   ]
  },
  {
   "cell_type": "code",
   "execution_count": null,
   "metadata": {},
   "outputs": [],
   "source": [
    "# QUESTION 2"
   ]
  },
  {
   "cell_type": "code",
   "execution_count": 2,
   "metadata": {},
   "outputs": [
    {
     "name": "stdout",
     "output_type": "stream",
     "text": [
      "Ashutosh Banskota\n"
     ]
    }
   ],
   "source": [
    "def strings(str1, str2):\n",
    "    return(str1 + str2)\n",
    "\n",
    "print(strings('Ashutosh',' Banskota'))"
   ]
  },
  {
   "cell_type": "code",
   "execution_count": null,
   "metadata": {},
   "outputs": [],
   "source": [
    "# QUESTION 3"
   ]
  },
  {
   "cell_type": "code",
   "execution_count": 3,
   "metadata": {},
   "outputs": [
    {
     "name": "stdout",
     "output_type": "stream",
     "text": [
      "Even Number\n",
      "Odd number\n"
     ]
    }
   ],
   "source": [
    "def odd_or_even(num):\n",
    "    if num % 2 == 0:\n",
    "        print('Even Number')\n",
    "    else:\n",
    "        print('Odd number')\n",
    "\n",
    "(odd_or_even(6))\n",
    "(odd_or_even(3))"
   ]
  },
  {
   "cell_type": "code",
   "execution_count": null,
   "metadata": {},
   "outputs": [],
   "source": [
    "# QUESTION 4"
   ]
  },
  {
   "cell_type": "code",
   "execution_count": 4,
   "metadata": {},
   "outputs": [
    {
     "name": "stdout",
     "output_type": "stream",
     "text": [
      "{1: 1, 2: 4, 3: 9, 4: 16, 5: 25, 6: 36, 7: 49, 8: 64, 9: 81, 10: 100, 11: 121, 12: 144, 13: 169, 14: 196, 15: 225, 16: 256, 17: 289, 18: 324, 19: 361, 20: 400}\n"
     ]
    }
   ],
   "source": [
    "def dict_keys():\n",
    "    squared_dict = {num: num**2 for  num in range(1,21)}\n",
    "    return squared_dict\n",
    "\n",
    "print(dict_keys())\n"
   ]
  },
  {
   "cell_type": "code",
   "execution_count": null,
   "metadata": {},
   "outputs": [],
   "source": [
    "# QUESTION 5"
   ]
  },
  {
   "cell_type": "code",
   "execution_count": 5,
   "metadata": {},
   "outputs": [
    {
     "name": "stdout",
     "output_type": "stream",
     "text": [
      "Odd\n",
      "9.0\n"
     ]
    }
   ],
   "source": [
    "def square_root(num):\n",
    "\n",
    "    if num % 2 == 0:\n",
    "        print('Even')\n",
    "\n",
    "    else:\n",
    "        print('Odd')\n",
    "\n",
    "        return num ** 0.5\n",
    "    \n",
    "print(square_root(81))"
   ]
  },
  {
   "cell_type": "code",
   "execution_count": null,
   "metadata": {},
   "outputs": [],
   "source": [
    "# QUESTION 6"
   ]
  },
  {
   "cell_type": "code",
   "execution_count": 15,
   "metadata": {},
   "outputs": [
    {
     "name": "stdout",
     "output_type": "stream",
     "text": [
      "[('Dan Mace', 98980000), ('Connor Meyer', 777898879), ('Adam Smith', 123087699), ('John Watson', 960008779)]\n"
     ]
    }
   ],
   "source": [
    "def separate(name_list, number_list):\n",
    "    output_list = []\n",
    "    i = 0\n",
    "    while i < len(name_list):\n",
    "        output = [name_list[i], number_list[i]]\n",
    "        output_list.append(tuple(output))\n",
    "        i += 1\n",
    "    return output_list\n",
    "\n",
    "print(separate([\"Dan Mace\", \"Connor Meyer\", \"Adam Smith\", \"John Watson\"], [98980000, 777898879, 123087699, 960008779]))\n"
   ]
  },
  {
   "cell_type": "code",
   "execution_count": null,
   "metadata": {},
   "outputs": [],
   "source": [
    "# QUESTION 7"
   ]
  },
  {
   "cell_type": "code",
   "execution_count": 6,
   "metadata": {},
   "outputs": [
    {
     "name": "stdout",
     "output_type": "stream",
     "text": [
      "(1, 2, 3, 4, 5)\n",
      "(6, 7, 8, 9, 10)\n"
     ]
    }
   ],
   "source": [
    "t = (1,2,3,4,5,6,7,8,9,10)\n",
    "\n",
    "print(t[:len(t)//2])\n",
    "print(t[len(t)//2:])"
   ]
  },
  {
   "cell_type": "code",
   "execution_count": null,
   "metadata": {},
   "outputs": [],
   "source": [
    "# QUESTION 8"
   ]
  },
  {
   "cell_type": "code",
   "execution_count": 14,
   "metadata": {},
   "outputs": [
    {
     "name": "stdout",
     "output_type": "stream",
     "text": [
      "['ksmith@thebritishcollege.edu.np', 'rsouza@thebritishcollege.edu.np', 'lgarber@thebritishcollege.edu.np', 'aghods@thebritishcollege.edu.np', 'shassan@thebritishcollege.edu.np', 'proy@thebritishcollege.edu.np']\n"
     ]
    }
   ],
   "source": [
    "def student_email(usernames):\n",
    "    student_email = [username + \"@thebritishcollege.edu.np\" for username in usernames]\n",
    "    return student_email\n",
    "\n",
    "student_username = [\"ksmith\", \"rsouza\", \"lgarber\", \"aghods\", \"shassan\", \"proy\"]\n",
    "print(student_email(student_username))"
   ]
  },
  {
   "cell_type": "code",
   "execution_count": null,
   "metadata": {},
   "outputs": [],
   "source": [
    "# QUESTION 9"
   ]
  },
  {
   "cell_type": "code",
   "execution_count": 7,
   "metadata": {},
   "outputs": [
    {
     "name": "stdout",
     "output_type": "stream",
     "text": [
      "Name: Dan Mace\n",
      "Contact no: 98980000\n",
      "Name: Connor Meyer\n",
      "Contact no: 777890879\n",
      "Name: Adam Smith\n",
      "Contact no: 123087699\n",
      "Name: John Watson\n",
      "Contact no: 960008779\n"
     ]
    }
   ],
   "source": [
    "name_list = [(\"Dan Mace\", 98980000), (\"Connor Meyer\", 777890879), (\"Adam Smith\", 123087699), (\"John Watson\", 960008779)]\n",
    "\n",
    "i = 0\n",
    "while i < len(name_list):\n",
    "    print(\"Name:\", name_list[i][0])\n",
    "    print(\"Contact no:\", name_list[i][1])\n",
    "    i += 1"
   ]
  },
  {
   "cell_type": "code",
   "execution_count": null,
   "metadata": {},
   "outputs": [],
   "source": [
    "# QUESTION 10"
   ]
  },
  {
   "cell_type": "code",
   "execution_count": 8,
   "metadata": {},
   "outputs": [
    {
     "name": "stdout",
     "output_type": "stream",
     "text": [
      "{'Dan Mace': 98980000, 'Connor Meyer': 777890879, 'Adam Smith': 123087699, 'John Watson': 960008779}\n"
     ]
    }
   ],
   "source": [
    "def tuple_to_dictionary(input_list):\n",
    "    output_dict = {}\n",
    "    for item in input_list:\n",
    "        key = item[0]\n",
    "        value = item[1]\n",
    "        output_dict[key] = value\n",
    "    return output_dict\n",
    "\n",
    "input_list = [(\"Dan Mace\", 98980000), (\"Connor Meyer\", 777890879), (\"Adam Smith\", 123087699), (\"John Watson\", 960008779)]\n",
    "output_dict = tuple_to_dictionary(input_list)\n",
    "\n",
    "print(output_dict)"
   ]
  },
  {
   "cell_type": "code",
   "execution_count": null,
   "metadata": {},
   "outputs": [],
   "source": [
    "# QUESTION 11"
   ]
  },
  {
   "cell_type": "code",
   "execution_count": 9,
   "metadata": {},
   "outputs": [
    {
     "name": "stdout",
     "output_type": "stream",
     "text": [
      "Number of words: 6\n"
     ]
    }
   ],
   "source": [
    "def no_of_words(input_str):\n",
    "    words = input_str.split()\n",
    "    return len(words)\n",
    "\n",
    "input_str = input('Enter the words to get the length:- ')\n",
    "num_words = no_of_words(input_str)\n",
    "print(\"Number of words:\", num_words)"
   ]
  },
  {
   "cell_type": "code",
   "execution_count": null,
   "metadata": {},
   "outputs": [],
   "source": [
    "# QUESTION 12"
   ]
  },
  {
   "cell_type": "code",
   "execution_count": 10,
   "metadata": {},
   "outputs": [
    {
     "name": "stdout",
     "output_type": "stream",
     "text": [
      "1, 1, 2, 3, 5, 8, 13, 21, 34, 55, 89, 144, "
     ]
    }
   ],
   "source": [
    "def fibonacci(n):\n",
    "    a, b = 1, 1\n",
    "    for i in range(n):\n",
    "        print(a, end=\", \")\n",
    "        a, b = b, a+b\n",
    "\n",
    "fibonacci(12)"
   ]
  },
  {
   "cell_type": "code",
   "execution_count": null,
   "metadata": {},
   "outputs": [],
   "source": [
    "# QUESTION 13"
   ]
  },
  {
   "cell_type": "code",
   "execution_count": 11,
   "metadata": {},
   "outputs": [
    {
     "name": "stdout",
     "output_type": "stream",
     "text": [
      "Player 2 wins\n"
     ]
    }
   ],
   "source": [
    "player1 = input(\"Player 1, enter your choice (rock/paper/scissor): \").lower()\n",
    "player2 = input(\"Player 2, enter your choice (rock/paper/scissor): \").lower()\n",
    "\n",
    "if player1 == player2:\n",
    "    print(\"It's a tie!\")\n",
    "elif player1 == \"rock\":\n",
    "    if player2 == \"paper\":\n",
    "        print(\"Player 2 wins\")\n",
    "    else:\n",
    "        print(\"Player 1 wins\")\n",
    "elif player1 == \"paper\":\n",
    "    if player2 == \"scissor\":\n",
    "        print(\"Player 2 wins\")\n",
    "    else:\n",
    "        print(\"Player 1 wins\")\n",
    "elif player1 == \"scissor\":\n",
    "    if player2 == \"rock\":\n",
    "        print(\"Player 2 wins\")\n",
    "    else:\n",
    "        print(\"Player 1 wins\")\n",
    "else:\n",
    "    print(\"Invalid input! You must enter either rock, paper, or scissor.\")"
   ]
  },
  {
   "cell_type": "code",
   "execution_count": null,
   "metadata": {},
   "outputs": [],
   "source": [
    "# QUESTION 14"
   ]
  },
  {
   "cell_type": "code",
   "execution_count": 12,
   "metadata": {},
   "outputs": [
    {
     "name": "stdout",
     "output_type": "stream",
     "text": [
      "1\n",
      "22\n",
      "333\n",
      "4444\n",
      "55555\n",
      "666666\n",
      "7777777\n",
      "88888888\n",
      "999999999\n"
     ]
    }
   ],
   "source": [
    "for i in range(1, 10):\n",
    "    print(str(i) * i)\n"
   ]
  },
  {
   "cell_type": "code",
   "execution_count": null,
   "metadata": {},
   "outputs": [],
   "source": [
    "# QUESTION 15"
   ]
  },
  {
   "cell_type": "code",
   "execution_count": 13,
   "metadata": {},
   "outputs": [
    {
     "name": "stdout",
     "output_type": "stream",
     "text": [
      "a-b-c-d-e-f-g-h-i-j-k-l-m-n-o-p-q-r-s-t-u-v-w-x-y-z\n"
     ]
    }
   ],
   "source": [
    "def sort_hyphen(sequence):\n",
    "    words = sequence.split(\"-\")\n",
    "    words.sort()\n",
    "    sorted_sequence = \"-\".join(words)\n",
    "    return sorted_sequence\n",
    "\n",
    "input_str = 'z-y-x-w-v-u-t-s-r-q-p-o-n-m-l-k-j-i-h-g-f-e-d-c-b-a'\n",
    "output_str = sort_hyphen(input_str)\n",
    "print(output_str)"
   ]
  }
 ],
 "metadata": {
  "kernelspec": {
   "display_name": "Python 3",
   "language": "python",
   "name": "python3"
  },
  "language_info": {
   "codemirror_mode": {
    "name": "ipython",
    "version": 3
   },
   "file_extension": ".py",
   "mimetype": "text/x-python",
   "name": "python",
   "nbconvert_exporter": "python",
   "pygments_lexer": "ipython3",
   "version": "3.11.1"
  },
  "orig_nbformat": 4
 },
 "nbformat": 4,
 "nbformat_minor": 2
}
